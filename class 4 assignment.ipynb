{
  "nbformat": 4,
  "nbformat_minor": 0,
  "metadata": {
    "colab": {
      "provenance": [],
      "authorship_tag": "ABX9TyO0na6FkPqOHzK46CA8NSZQ",
      "include_colab_link": true
    },
    "kernelspec": {
      "name": "python3",
      "display_name": "Python 3"
    },
    "language_info": {
      "name": "python"
    }
  },
  "cells": [
    {
      "cell_type": "markdown",
      "metadata": {
        "id": "view-in-github",
        "colab_type": "text"
      },
      "source": [
        "<a href=\"https://colab.research.google.com/github/Prihub21/Amazon-sales-data/blob/main/class%204%20assignment.ipynb\" target=\"_parent\"><img src=\"https://colab.research.google.com/assets/colab-badge.svg\" alt=\"Open In Colab\"/></a>"
      ]
    },
    {
      "cell_type": "code",
      "source": [],
      "metadata": {
        "id": "WG4xEJwQbzeA"
      },
      "execution_count": null,
      "outputs": []
    },
    {
      "cell_type": "code",
      "source": [
        "#Q1) How many built-in data types are there? (Define them in empty brackets wherever possible)\n",
        "#Answer- int, float, complex, list[],tuple(),range(),dict{},set{},str\n"
      ],
      "metadata": {
        "colab": {
          "base_uri": "https://localhost:8080/",
          "height": 106
        },
        "id": "9_aRM_P3bGtg",
        "outputId": "b0f5878e-3fd0-4a61-fd36-7a58f992f096"
      },
      "execution_count": 13,
      "outputs": [
        {
          "output_type": "error",
          "ename": "SyntaxError",
          "evalue": "invalid syntax (ipython-input-184783030.py, line 2)",
          "traceback": [
            "\u001b[0;36m  File \u001b[0;32m\"/tmp/ipython-input-184783030.py\"\u001b[0;36m, line \u001b[0;32m2\u001b[0m\n\u001b[0;31m    int, float, complex, list[],tuple(),range(),dict{},set{},str\u001b[0m\n\u001b[0m                              ^\u001b[0m\n\u001b[0;31mSyntaxError\u001b[0m\u001b[0;31m:\u001b[0m invalid syntax\n"
          ]
        }
      ]
    },
    {
      "cell_type": "code",
      "source": [
        "+"
      ],
      "metadata": {
        "id": "XxWjU0A2chDO"
      },
      "execution_count": null,
      "outputs": []
    },
    {
      "cell_type": "code",
      "source": [
        "Q2) Write maximum 4 to 1 operations of these data types\n",
        "int - x= 10\n",
        "float - x =10.5\n",
        "complex - x = 3 + 2j\n",
        "list - x= [1,2,3]\n",
        "tuple - x= (1,2,3)\n",
        "range - x= (range(5)) = (0,1,2,3,4)\n",
        "dict - x = {\"a\": 1, \"b\": 2})\n",
        "set - x = {1, 2, 3})"
      ],
      "metadata": {
        "colab": {
          "base_uri": "https://localhost:8080/",
          "height": 106
        },
        "id": "qpPdOd-rcEHt",
        "outputId": "253eb76e-259e-4913-b2a9-8b193df9224d"
      },
      "execution_count": 14,
      "outputs": [
        {
          "output_type": "error",
          "ename": "SyntaxError",
          "evalue": "invalid syntax (ipython-input-1045949560.py, line 1)",
          "traceback": [
            "\u001b[0;36m  File \u001b[0;32m\"/tmp/ipython-input-1045949560.py\"\u001b[0;36m, line \u001b[0;32m1\u001b[0m\n\u001b[0;31m    Write maximum 4 to 1 operations of these data types\u001b[0m\n\u001b[0m          ^\u001b[0m\n\u001b[0;31mSyntaxError\u001b[0m\u001b[0;31m:\u001b[0m invalid syntax\n"
          ]
        }
      ]
    },
    {
      "cell_type": "code",
      "source": [
        "Q3)Difference between built-in function, module & library with one example\n",
        "Built in function - A function that comes predefined in Python ,no need to import anything\n",
        "x = [10, 20, 30]\n",
        "print(len(x))\n",
        "Module - A single Python file that contains related functions, variables, or classes.\n",
        "import math\n",
        "print(math.sqrt(16))\n",
        "library - A collection of modules\n",
        "import numpy as np\n",
        "arr = np.array([1, 2, 3, 4])\n",
        "print(arr.mean())"
      ],
      "metadata": {
        "id": "3Mp-2xe4dcjV"
      },
      "execution_count": null,
      "outputs": []
    },
    {
      "cell_type": "code",
      "source": [
        "Q4) What are mutable and immutable data types name them & give example\n",
        "Mutable - Data types whose values can be changed after creation. We You can add, remove, or modify elements\n",
        "list [ ],dict { },set { }\n",
        "Immutable -Data types whose values cannot be changed after creation\n",
        "int,float,bool,str,tuple"
      ],
      "metadata": {
        "id": "iWy1GZRseuep"
      },
      "execution_count": null,
      "outputs": []
    },
    {
      "cell_type": "code",
      "source": [
        "Q5)What are compound statements?\n",
        "A compound statement is a group of statements that work together as a single block of code.They contain one or more other statements inside them"
      ],
      "metadata": {
        "id": "eR9S70mjfony"
      },
      "execution_count": null,
      "outputs": []
    },
    {
      "cell_type": "code",
      "source": [
        "Q6) Difference between IF statements, While statements & For loop? code two examples for all of them"
      ],
      "metadata": {
        "id": "YsVWJ0R7f_5r"
      },
      "execution_count": null,
      "outputs": []
    }
  ]
}